{
 "cells": [
  {
   "cell_type": "code",
   "execution_count": 1,
   "metadata": {},
   "outputs": [],
   "source": [
    "import sys\n",
    "import os, os.path\n",
    "sys.path.append(os.path.abspath(\"..\"))  # Adjust path to package root\n",
    "\n",
    "from abstraction import calc_offset_vectors, destretch_files\n",
    "from utility import get_fits_paths, IndexSchema\n",
    "from reference_method import RollingWindow\n",
    "\n",
    "# here we get the filepaths of the timeseries we want to destretch\n",
    "filepaths = get_fits_paths(\"./media\")\n",
    "filepaths = filepaths[1:12]"
   ]
  },
  {
   "cell_type": "code",
   "execution_count": 2,
   "metadata": {},
   "outputs": [
    {
     "name": "stdout",
     "output_type": "stream",
     "text": [
      "Searching for image data in specified files...\n",
      "ref image checksum: 3539233792.0\n",
      "processing image #0.../media/test_1k_00.fits\n",
      "ref image checksum: 5.79296875\n",
      "ref image checksum: 3539233792.0\n",
      "processing image #1.../media/test_1k_01.fits\n",
      "ref image checksum: 5.79296875\n",
      "ref image checksum: 3539233792.0\n",
      "processing image #2.../media/test_1k_02.fits\n"
     ]
    },
    {
     "ename": "KeyboardInterrupt",
     "evalue": "",
     "output_type": "error",
     "traceback": [
      "\u001b[0;31m---------------------------------------------------------------------------\u001b[0m",
      "\u001b[0;31mKeyboardInterrupt\u001b[0m                         Traceback (most recent call last)",
      "Cell \u001b[0;32mIn[2], line 3\u001b[0m\n\u001b[1;32m      1\u001b[0m \u001b[38;5;66;03m# calculate the offset vectors and save them in a specified directory\u001b[39;00m\n\u001b[1;32m      2\u001b[0m \u001b[38;5;66;03m# these files can be used to destretch \u001b[39;00m\n\u001b[0;32m----> 3\u001b[0m out_offs \u001b[38;5;241m=\u001b[39m \u001b[43mcalc_offset_vectors\u001b[49m\u001b[43m(\u001b[49m\n\u001b[1;32m      4\u001b[0m \u001b[43m    \u001b[49m\u001b[43mfilepaths\u001b[49m\u001b[43m,\u001b[49m\u001b[43m \u001b[49m\n\u001b[1;32m      5\u001b[0m \u001b[43m    \u001b[49m\u001b[38;5;124;43m\"\u001b[39;49m\u001b[38;5;124;43m./media/off\u001b[39;49m\u001b[38;5;124;43m\"\u001b[39;49m\u001b[43m,\u001b[49m\n\u001b[1;32m      6\u001b[0m \u001b[43m    \u001b[49m\u001b[43mkernel_sizes\u001b[49m\u001b[38;5;241;43m=\u001b[39;49m\u001b[43m[\u001b[49m\u001b[38;5;241;43m64\u001b[39;49m\u001b[43m,\u001b[49m\u001b[43m \u001b[49m\u001b[38;5;241;43m32\u001b[39;49m\u001b[43m]\u001b[49m\u001b[43m,\u001b[49m\n\u001b[1;32m      7\u001b[0m \u001b[43m    \u001b[49m\u001b[43mref_method\u001b[49m\u001b[38;5;241;43m=\u001b[39;49m\u001b[43mRollingWindow\u001b[49m\u001b[43m(\u001b[49m\u001b[43mfilepaths\u001b[49m\u001b[43m,\u001b[49m\u001b[43m \u001b[49m\u001b[38;5;241;43m4\u001b[39;49m\u001b[43m,\u001b[49m\u001b[43m \u001b[49m\u001b[38;5;241;43m4\u001b[39;49m\u001b[43m)\u001b[49m\n\u001b[1;32m      8\u001b[0m \u001b[43m)\u001b[49m\n",
      "File \u001b[0;32m~/Documents/Development/flct_destretch/flctdestretch/abstraction.py:371\u001b[0m, in \u001b[0;36mcalc_offset_vectors\u001b[0;34m(in_filepaths, out_dir, out_filename, **kwargs)\u001b[0m\n\u001b[1;32m    368\u001b[0m kwargs[\u001b[38;5;124m\"\u001b[39m\u001b[38;5;124mref_method\u001b[39m\u001b[38;5;124m\"\u001b[39m] \u001b[38;5;241m=\u001b[39m kwargs\u001b[38;5;241m.\u001b[39mget(\u001b[38;5;124m\"\u001b[39m\u001b[38;5;124mref_method\u001b[39m\u001b[38;5;124m\"\u001b[39m, PreviousRef(in_filepaths))\n\u001b[1;32m    370\u001b[0m \u001b[38;5;66;03m# iterate over data in files\u001b[39;00m\n\u001b[0;32m--> 371\u001b[0m \u001b[43mfits_file_destretch_iter\u001b[49m\u001b[43m(\u001b[49m\u001b[43min_filepaths\u001b[49m\u001b[43m,\u001b[49m\u001b[43m \u001b[49m\u001b[43mprocess_iter\u001b[49m\u001b[43m,\u001b[49m\u001b[43m \u001b[49m\u001b[38;5;241;43m*\u001b[39;49m\u001b[38;5;241;43m*\u001b[39;49m\u001b[43m \u001b[49m\u001b[43mkwargs\u001b[49m\u001b[43m)\u001b[49m\n\u001b[1;32m    372\u001b[0m \u001b[38;5;28;01mreturn\u001b[39;00m out_paths\n",
      "File \u001b[0;32m~/Documents/Development/flct_destretch/flctdestretch/abstraction.py:99\u001b[0m, in \u001b[0;36mfits_file_destretch_iter\u001b[0;34m(in_filepaths, iter_func, **kwargs)\u001b[0m\n\u001b[1;32m     97\u001b[0m \u001b[38;5;66;03m# perform image destretching\u001b[39;00m\n\u001b[1;32m     98\u001b[0m \u001b[38;5;28mprint\u001b[39m(\u001b[38;5;124mf\u001b[39m\u001b[38;5;124m\"\u001b[39m\u001b[38;5;124mprocessing image #\u001b[39m\u001b[38;5;132;01m{\u001b[39;00mi\u001b[38;5;132;01m}\u001b[39;00m\u001b[38;5;124m..\u001b[39m\u001b[38;5;124m\"\u001b[39m \u001b[38;5;241m+\u001b[39m in_filepaths[i])\n\u001b[0;32m---> 99\u001b[0m result \u001b[38;5;241m=\u001b[39m \u001b[43mreg_loop\u001b[49m\u001b[43m(\u001b[49m\n\u001b[1;32m    100\u001b[0m \u001b[43m    \u001b[49m\u001b[43mimage_data\u001b[49m\u001b[43m,\u001b[49m\n\u001b[1;32m    101\u001b[0m \u001b[43m    \u001b[49m\u001b[43mreference_image\u001b[49m\u001b[43m,\u001b[49m\n\u001b[1;32m    102\u001b[0m \u001b[43m    \u001b[49m\u001b[43mkernel_sizes\u001b[49m\u001b[43m,\u001b[49m\n\u001b[1;32m    103\u001b[0m \u001b[43m\u001b[49m\u001b[43m)\u001b[49m\n\u001b[1;32m    105\u001b[0m \u001b[38;5;66;03m# ???? why does it change after the first time? why is the change \u001b[39;00m\n\u001b[1;32m    106\u001b[0m \u001b[38;5;66;03m# different than just ref -= ref.mean()? \u001b[39;00m\n\u001b[1;32m    107\u001b[0m \u001b[38;5;28mprint\u001b[39m(\u001b[38;5;124mf\u001b[39m\u001b[38;5;124m\"\u001b[39m\u001b[38;5;124mref image checksum: \u001b[39m\u001b[38;5;132;01m{\u001b[39;00mreference_image\u001b[38;5;241m.\u001b[39msum()\u001b[38;5;132;01m}\u001b[39;00m\u001b[38;5;124m\"\u001b[39m)\n",
      "File \u001b[0;32m~/Documents/Development/flct_destretch/flctdestretch/algorithm.py:450\u001b[0m, in \u001b[0;36mreg_loop\u001b[0;34m(scene, ref, kernel_sizes, mf, use_fft, adf2_pad, adf_pow, border_offset, spacing_ratio)\u001b[0m\n\u001b[1;32m    447\u001b[0m kernel_count \u001b[38;5;241m=\u001b[39m \u001b[38;5;241m0.0\u001b[39m\n\u001b[1;32m    449\u001b[0m \u001b[38;5;28;01mfor\u001b[39;00m kernel_dim \u001b[38;5;129;01min\u001b[39;00m kernel_sizes:\n\u001b[0;32m--> 450\u001b[0m     scene_temp, disp, rdisp, destr_info \u001b[38;5;241m=\u001b[39m \u001b[43mreg\u001b[49m\u001b[43m(\u001b[49m\u001b[43mscene_temp\u001b[49m\u001b[43m,\u001b[49m\u001b[43m \u001b[49m\u001b[43mref\u001b[49m\u001b[43m,\u001b[49m\u001b[43m \u001b[49m\u001b[43mkernel_dim\u001b[49m\u001b[43m,\u001b[49m\u001b[43m \u001b[49m\u001b[43mmf\u001b[49m\u001b[43m,\u001b[49m\u001b[43m \u001b[49m\u001b[43muse_fft\u001b[49m\u001b[43m,\u001b[49m\u001b[43m \u001b[49m\u001b[43madf2_pad\u001b[49m\u001b[43m,\u001b[49m\u001b[43m \u001b[49m\u001b[43madf_pow\u001b[49m\u001b[43m,\u001b[49m\u001b[43m \u001b[49m\u001b[43mborder_offset\u001b[49m\u001b[43m,\u001b[49m\u001b[43m \u001b[49m\u001b[43mspacing_ratio\u001b[49m\u001b[43m)\u001b[49m\n\u001b[1;32m    451\u001b[0m     \u001b[38;5;66;03m# remap displacements onto spatial grid of scene \u001b[39;00m\n\u001b[1;32m    452\u001b[0m     \u001b[38;5;66;03m# (i.e. the same number of pixels as the input image)\u001b[39;00m\n\u001b[1;32m    453\u001b[0m     dispmap_new, offsets_new  \u001b[38;5;241m=\u001b[39m bilin_control_points(scene, rdisp, disp)\n",
      "File \u001b[0;32m~/Documents/Development/flct_destretch/flctdestretch/algorithm.py:650\u001b[0m, in \u001b[0;36mreg\u001b[0;34m(scene, ref, kernel_size, mf, use_fft, adf_pad, adf_pow, border_offset, spacing_ratio)\u001b[0m\n\u001b[1;32m    648\u001b[0m     subfield_fftconj, subfields_images \u001b[38;5;241m=\u001b[39m doref(ref, apod_window, destr_info)\n\u001b[1;32m    649\u001b[0m     \u001b[38;5;66;03m# print(scene.shape, apod_window.shape, smou.shape, destr_info)\u001b[39;00m\n\u001b[0;32m--> 650\u001b[0m     disp \u001b[38;5;241m=\u001b[39m \u001b[43mcontrolpoint_offsets_fft\u001b[49m\u001b[43m(\u001b[49m\u001b[43mscene\u001b[49m\u001b[43m,\u001b[49m\u001b[43m \u001b[49m\u001b[43msubfield_fftconj\u001b[49m\u001b[43m,\u001b[49m\u001b[43m \u001b[49m\u001b[43mapod_window\u001b[49m\u001b[43m,\u001b[49m\u001b[43m \u001b[49m\u001b[43msmou\u001b[49m\u001b[43m,\u001b[49m\u001b[43m \u001b[49m\u001b[43mdestr_info\u001b[49m\u001b[43m)\u001b[49m\n\u001b[1;32m    651\u001b[0m \u001b[38;5;28;01melse\u001b[39;00m:\n\u001b[1;32m    652\u001b[0m     disp \u001b[38;5;241m=\u001b[39m controlpoint_offsets_adf(scene, ref, destr_info, adf_pad, adf_pow)\n",
      "File \u001b[0;32m~/Documents/Development/flct_destretch/flctdestretch/algorithm.py:300\u001b[0m, in \u001b[0;36mcontrolpoint_offsets_fft\u001b[0;34m(scene, subfield_fftconj, apod_window, lowpass_filter, destr_info)\u001b[0m\n\u001b[1;32m    297\u001b[0m \u001b[38;5;66;03m#cross correlation, inline\u001b[39;00m\n\u001b[1;32m    298\u001b[0m scene_subarr \u001b[38;5;241m=\u001b[39m scene[sub_strt_x:sub_end_x\u001b[38;5;241m+\u001b[39m\u001b[38;5;241m1\u001b[39m, sub_strt_y:sub_end_y\u001b[38;5;241m+\u001b[39m\u001b[38;5;241m1\u001b[39m]\u001b[38;5;241m.\u001b[39mcopy()\n\u001b[0;32m--> 300\u001b[0m scene_subarr \u001b[38;5;241m-\u001b[39m\u001b[38;5;241m=\u001b[39m \u001b[43mprocessing\u001b[49m\u001b[38;5;241;43m.\u001b[39;49m\u001b[43msurface_fit\u001b[49m\u001b[43m(\u001b[49m\u001b[43mscene_subarr\u001b[49m\u001b[43m,\u001b[49m\u001b[43m \u001b[49m\u001b[43mdestr_info\u001b[49m\u001b[38;5;241;43m.\u001b[39;49m\u001b[43msubfield_correction\u001b[49m\u001b[43m)\u001b[49m\n\u001b[1;32m    302\u001b[0m scene_subarr_fft \u001b[38;5;241m=\u001b[39m np\u001b[38;5;241m.\u001b[39marray(np\u001b[38;5;241m.\u001b[39mfft\u001b[38;5;241m.\u001b[39mfft2(scene_subarr \u001b[38;5;241m*\u001b[39m apod_window), order\u001b[38;5;241m=\u001b[39m\u001b[38;5;124m\"\u001b[39m\u001b[38;5;124mF\u001b[39m\u001b[38;5;124m\"\u001b[39m)\n\u001b[1;32m    303\u001b[0m scene_subarr_fft \u001b[38;5;241m=\u001b[39m scene_subarr_fft  \u001b[38;5;241m*\u001b[39m subfield_fftconj[:, :, i, j] \u001b[38;5;241m*\u001b[39m lowpass_filter\n",
      "File \u001b[0;32m~/Documents/Development/flct_destretch/flctdestretch/processing.py:231\u001b[0m, in \u001b[0;36msurface_fit\u001b[0;34m(points_array, order)\u001b[0m\n\u001b[1;32m    229\u001b[0m YY \u001b[38;5;241m=\u001b[39m points_array\u001b[38;5;241m.\u001b[39mreshape((L\u001b[38;5;241m*\u001b[39mM, \u001b[38;5;241m1\u001b[39m))\n\u001b[1;32m    230\u001b[0m \u001b[38;5;66;03m# calculate normal vector of plane: theta = [X.T X]^-1 X.T YY\u001b[39;00m\n\u001b[0;32m--> 231\u001b[0m theta \u001b[38;5;241m=\u001b[39m np\u001b[38;5;241m.\u001b[39mdot(\u001b[43mnp\u001b[49m\u001b[38;5;241;43m.\u001b[39;49m\u001b[43mdot\u001b[49m\u001b[43m(\u001b[49m\u001b[43mnp\u001b[49m\u001b[38;5;241;43m.\u001b[39;49m\u001b[43mlinalg\u001b[49m\u001b[38;5;241;43m.\u001b[39;49m\u001b[43mpinv\u001b[49m\u001b[43m(\u001b[49m\u001b[43mnp\u001b[49m\u001b[38;5;241;43m.\u001b[39;49m\u001b[43mdot\u001b[49m\u001b[43m(\u001b[49m\u001b[43mX\u001b[49m\u001b[38;5;241;43m.\u001b[39;49m\u001b[43mT\u001b[49m\u001b[43m,\u001b[49m\u001b[43m \u001b[49m\u001b[43mX\u001b[49m\u001b[43m)\u001b[49m\u001b[43m)\u001b[49m\u001b[43m,\u001b[49m\u001b[43m \u001b[49m\u001b[43mX\u001b[49m\u001b[38;5;241;43m.\u001b[39;49m\u001b[43mT\u001b[49m\u001b[43m)\u001b[49m, YY)\n\u001b[1;32m    232\u001b[0m \u001b[38;5;66;03m# obtain fitted plane: plane_points = X ⋅ theta\u001b[39;00m\n\u001b[1;32m    233\u001b[0m surface_array \u001b[38;5;241m=\u001b[39m np\u001b[38;5;241m.\u001b[39mdot(X, theta)\u001b[38;5;241m.\u001b[39mreshape((L, M))\n",
      "\u001b[0;31mKeyboardInterrupt\u001b[0m: "
     ]
    }
   ],
   "source": [
    "\n",
    "# calculate the offset vectors and save them in a specified directory\n",
    "# these files can be used to destretch \n",
    "out_offs = calc_offset_vectors(\n",
    "    filepaths, \n",
    "    \"./media/off\",\n",
    "    kernel_sizes=[64, 32],\n",
    "    ref_method=RollingWindow(filepaths, 4, 4)\n",
    ")"
   ]
  },
  {
   "cell_type": "code",
   "execution_count": 4,
   "metadata": {},
   "outputs": [
    {
     "name": "stdout",
     "output_type": "stream",
     "text": [
      "Searching for image data in specified files...\n",
      "destretched ./media/destr/destretched00.fits\n",
      "destretched ./media/destr/destretched01.fits\n",
      "destretched ./media/destr/destretched02.fits\n",
      "destretched ./media/destr/destretched03.fits\n",
      "destretched ./media/destr/destretched04.fits\n",
      "destretched ./media/destr/destretched05.fits\n",
      "destretched ./media/destr/destretched06.fits\n",
      "destretched ./media/destr/destretched07.fits\n",
      "destretched ./media/destr/destretched08.fits\n",
      "destretched ./media/destr/destretched09.fits\n",
      "destretched ./media/destr/destretched10.fits\n",
      "Destretching complete! Time elapsed: 4.201 seconds\n"
     ]
    }
   ],
   "source": [
    "out_destr = destretch_files(filepaths, out_offs, \"./media/destr\")"
   ]
  },
  {
   "cell_type": "code",
   "execution_count": 5,
   "metadata": {},
   "outputs": [
    {
     "name": "stdout",
     "output_type": "stream",
     "text": [
      "Video saved to ./media/orig.mp4, with 11 frames\n",
      "Video saved to ./media/destr.mp4, with 11 frames\n"
     ]
    }
   ],
   "source": [
    "from fits_to_mp4 import fits_to_mp4\n",
    "\n",
    "fits_to_mp4(filepaths, \"./media/orig.mp4\", 12, index_schema=IndexSchema.XY)\n",
    "fits_to_mp4(get_fits_paths(out_destr), \"./media/destr.mp4\", 12, index_schema=IndexSchema.XY)"
   ]
  }
 ],
 "metadata": {
  "kernelspec": {
   "display_name": "Python 3",
   "language": "python",
   "name": "python3"
  },
  "language_info": {
   "codemirror_mode": {
    "name": "ipython",
    "version": 3
   },
   "file_extension": ".py",
   "mimetype": "text/x-python",
   "name": "python",
   "nbconvert_exporter": "python",
   "pygments_lexer": "ipython3",
   "version": "3.13.1"
  }
 },
 "nbformat": 4,
 "nbformat_minor": 2
}
